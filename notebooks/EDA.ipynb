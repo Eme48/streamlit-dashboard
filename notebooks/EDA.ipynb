{
 "cells": [
  {
   "cell_type": "code",
   "execution_count": null,
   "id": "8ca796bd",
   "metadata": {
    "vscode": {
     "languageId": "plaintext"
    }
   },
   "outputs": [],
   "source": [
    "import pandas as pd\n",
    "import plotly.express as px\n",
    "\n",
    "car_data = pd.read_csv('d:\\Emerson\\Coding\\TripleTen\\streamlit-dashboard\\\\vehicles_us.csv') # leer los datos\n",
    "\n",
    "fig_1 = px.histogram(car_data, x=\"odometer\") # crear un histograma\n",
    "fig_1.show() # crear gráfico de dispersión\n",
    "\n",
    "fig_2 = px.scatter(car_data, x=\"odometer\", y=\"price\") # crear un gráfico de dispersión\n",
    "fig_2.show() # crear gráfico de dispersión"
   ]
  }
 ],
 "metadata": {
  "language_info": {
   "name": "python"
  }
 },
 "nbformat": 4,
 "nbformat_minor": 5
}
